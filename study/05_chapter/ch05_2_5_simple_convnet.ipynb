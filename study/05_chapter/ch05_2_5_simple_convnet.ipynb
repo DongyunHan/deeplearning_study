{
 "cells": [
  {
   "cell_type": "code",
   "execution_count": 1,
   "metadata": {},
   "outputs": [
    {
     "name": "stderr",
     "output_type": "stream",
     "text": [
      "Using TensorFlow backend.\n"
     ]
    }
   ],
   "source": [
    "from keras import layers\n",
    "from keras import models"
   ]
  },
  {
   "cell_type": "markdown",
   "metadata": {},
   "source": [
    "## Building Model"
   ]
  },
  {
   "cell_type": "code",
   "execution_count": 2,
   "metadata": {},
   "outputs": [],
   "source": [
    "model = models.Sequential()"
   ]
  },
  {
   "cell_type": "code",
   "execution_count": 3,
   "metadata": {},
   "outputs": [],
   "source": [
    "model.add(layers.Conv2D(32,(3,3), activation='relu', input_shape=(150,150,3)))\n",
    "model.add(layers.MaxPooling2D(2,2))\n",
    "\n",
    "model.add(layers.Conv2D(64,(3,3), activation='relu', input_shape=(150,150,3)))\n",
    "model.add(layers.MaxPooling2D(2,2))\n",
    "\n",
    "model.add(layers.Conv2D(128,(3,3), activation='relu', input_shape=(150,150,3)))\n",
    "model.add(layers.MaxPooling2D(2,2))\n",
    "\n",
    "model.add(layers.Conv2D(128,(3,3), activation='relu', input_shape=(150,150,3)))\n",
    "model.add(layers.MaxPooling2D(2,2))\n",
    "\n",
    "model.add(layers.Flatten())\n",
    "model.add(layers.Dense(512, activation='relu'))\n",
    "model.add(layers.Dense(1, activation='sigmoid'))"
   ]
  },
  {
   "cell_type": "code",
   "execution_count": 4,
   "metadata": {},
   "outputs": [],
   "source": [
    "from keras import optimizers"
   ]
  },
  {
   "cell_type": "code",
   "execution_count": 5,
   "metadata": {},
   "outputs": [],
   "source": [
    "# 모델 마지막 레이어의 활성함수가 sigmoid이기 때문에 \n",
    "# loss 함수를 binary crossentropy로 설정\n",
    "model.compile(loss='binary_crossentropy',\n",
    "              optimizer=optimizers.RMSprop(lr=1e-4),\n",
    "              metrics=['acc'])"
   ]
  },
  {
   "cell_type": "markdown",
   "metadata": {},
   "source": [
    "## Data Preprocessing"
   ]
  },
  {
   "cell_type": "code",
   "execution_count": 6,
   "metadata": {},
   "outputs": [],
   "source": [
    "# Data Preprocessing\n",
    "from keras.preprocessing.image import ImageDataGenerator"
   ]
  },
  {
   "cell_type": "code",
   "execution_count": 7,
   "metadata": {},
   "outputs": [
    {
     "ename": "NameError",
     "evalue": "name 'train_dir' is not defined",
     "output_type": "error",
     "traceback": [
      "\u001b[0;31m----------------------------------------\u001b[0m",
      "\u001b[0;31mNameError\u001b[0mTraceback (most recent call last)",
      "\u001b[0;32m<ipython-input-7-3e89614a8784>\u001b[0m in \u001b[0;36m<module>\u001b[0;34m\u001b[0m\n\u001b[1;32m      2\u001b[0m \u001b[0mdataset_dir\u001b[0m \u001b[0;34m=\u001b[0m \u001b[0;34m\"../keras_dataset/dogs_cats_small\"\u001b[0m\u001b[0;34m\u001b[0m\u001b[0;34m\u001b[0m\u001b[0m\n\u001b[1;32m      3\u001b[0m \u001b[0;34m\u001b[0m\u001b[0m\n\u001b[0;32m----> 4\u001b[0;31m \u001b[0mprint\u001b[0m\u001b[0;34m(\u001b[0m\u001b[0mos\u001b[0m\u001b[0;34m.\u001b[0m\u001b[0mlistdir\u001b[0m\u001b[0;34m(\u001b[0m\u001b[0mtrain_dir\u001b[0m\u001b[0;34m)\u001b[0m\u001b[0;34m)\u001b[0m\u001b[0;34m\u001b[0m\u001b[0;34m\u001b[0m\u001b[0m\n\u001b[0m",
      "\u001b[0;31mNameError\u001b[0m: name 'train_dir' is not defined"
     ]
    }
   ],
   "source": [
    "import os\n",
    "dataset_dir = \"../keras_dataset/dogs_cats_small\"\n",
    "\n",
    "print(os.listdir(train_dir))"
   ]
  },
  {
   "cell_type": "code",
   "execution_count": 8,
   "metadata": {},
   "outputs": [
    {
     "name": "stdout",
     "output_type": "stream",
     "text": [
      "Found 2000 images belonging to 2 classes.\n",
      "Found 1000 images belonging to 2 classes.\n"
     ]
    }
   ],
   "source": [
    "train_datagen = ImageDataGenerator(rescale=1./255)\n",
    "test_datagen  = ImageDataGenerator(rescale=1./255)\n",
    "\n",
    "dataset_dir = \"../keras_dataset/dogs_cats_small/\"\n",
    "train_dir = dataset_dir + \"train\"\n",
    "valid_dir = dataset_dir + \"validation\"\n",
    "\n",
    "train_generator = train_datagen.flow_from_directory(train_dir, target_size=(150,150),\n",
    "                                                    batch_size=20, class_mode='binary')\n",
    "validation_generator = test_datagen.flow_from_directory(valid_dir, target_size=(150,150),\n",
    "                                                    batch_size=20, class_mode='binary')"
   ]
  },
  {
   "cell_type": "code",
   "execution_count": 9,
   "metadata": {},
   "outputs": [],
   "source": [
    "# for data_batch, labels_batch in train_generator:\n",
    "#     print(data_batch.shape)\n",
    "#     print(labels_batch.shape)\n",
    "#     break\n",
    "#  => error = Could not import PIL.Image. The use of `array_to_img` requires PIL.\n",
    "#  => solution? = conda install pillow \n"
   ]
  },
  {
   "cell_type": "code",
   "execution_count": 10,
   "metadata": {},
   "outputs": [
    {
     "name": "stdout",
     "output_type": "stream",
     "text": [
      "Epoch 1/30\n",
      "100/100 [==============================] - 12s 123ms/step - loss: 0.6882 - acc: 0.5365 - val_loss: 0.6766 - val_acc: 0.5610\n",
      "Epoch 2/30\n",
      "100/100 [==============================] - 8s 75ms/step - loss: 0.6598 - acc: 0.5980 - val_loss: 0.6403 - val_acc: 0.6400\n",
      "Epoch 3/30\n",
      "100/100 [==============================] - 9s 86ms/step - loss: 0.6231 - acc: 0.6530 - val_loss: 0.6075 - val_acc: 0.6650\n",
      "Epoch 4/30\n",
      "100/100 [==============================] - 8s 85ms/step - loss: 0.5863 - acc: 0.6835 - val_loss: 0.6598 - val_acc: 0.6320\n",
      "Epoch 5/30\n",
      "100/100 [==============================] - 9s 89ms/step - loss: 0.5462 - acc: 0.7220 - val_loss: 0.5973 - val_acc: 0.6580\n",
      "Epoch 6/30\n",
      "100/100 [==============================] - 7s 71ms/step - loss: 0.5227 - acc: 0.7345 - val_loss: 0.5734 - val_acc: 0.6930\n",
      "Epoch 7/30\n",
      "100/100 [==============================] - 8s 75ms/step - loss: 0.4958 - acc: 0.7640 - val_loss: 0.5546 - val_acc: 0.7110\n",
      "Epoch 8/30\n",
      "100/100 [==============================] - 7s 71ms/step - loss: 0.4759 - acc: 0.7750 - val_loss: 0.5878 - val_acc: 0.6840\n",
      "Epoch 9/30\n",
      "100/100 [==============================] - 7s 69ms/step - loss: 0.4502 - acc: 0.7915 - val_loss: 0.5627 - val_acc: 0.7100\n",
      "Epoch 10/30\n",
      "100/100 [==============================] - 7s 71ms/step - loss: 0.4240 - acc: 0.8075 - val_loss: 0.6849 - val_acc: 0.6730\n",
      "Epoch 11/30\n",
      "100/100 [==============================] - 7s 70ms/step - loss: 0.4056 - acc: 0.8165 - val_loss: 0.5306 - val_acc: 0.7440\n",
      "Epoch 12/30\n",
      "100/100 [==============================] - 7s 70ms/step - loss: 0.3845 - acc: 0.8295 - val_loss: 0.5315 - val_acc: 0.7290\n",
      "Epoch 13/30\n",
      "100/100 [==============================] - 7s 75ms/step - loss: 0.3639 - acc: 0.8410 - val_loss: 0.5461 - val_acc: 0.7400\n",
      "Epoch 14/30\n",
      "100/100 [==============================] - 7s 73ms/step - loss: 0.3453 - acc: 0.8435 - val_loss: 0.5709 - val_acc: 0.7250\n",
      "Epoch 15/30\n",
      "100/100 [==============================] - 9s 93ms/step - loss: 0.3194 - acc: 0.8695 - val_loss: 0.5368 - val_acc: 0.7480\n",
      "Epoch 16/30\n",
      "100/100 [==============================] - 7s 73ms/step - loss: 0.3089 - acc: 0.8755 - val_loss: 0.7034 - val_acc: 0.7020\n",
      "Epoch 17/30\n",
      "100/100 [==============================] - 9s 92ms/step - loss: 0.2835 - acc: 0.8855 - val_loss: 0.6851 - val_acc: 0.7100\n",
      "Epoch 18/30\n",
      "100/100 [==============================] - 7s 70ms/step - loss: 0.2635 - acc: 0.8910 - val_loss: 0.5913 - val_acc: 0.7450\n",
      "Epoch 19/30\n",
      "100/100 [==============================] - 8s 75ms/step - loss: 0.2455 - acc: 0.9035 - val_loss: 0.6643 - val_acc: 0.7330\n",
      "Epoch 20/30\n",
      "100/100 [==============================] - 8s 77ms/step - loss: 0.2373 - acc: 0.9065 - val_loss: 0.5799 - val_acc: 0.7420\n",
      "Epoch 21/30\n",
      "100/100 [==============================] - 7s 69ms/step - loss: 0.2035 - acc: 0.9270 - val_loss: 0.6025 - val_acc: 0.7610\n",
      "Epoch 22/30\n",
      "100/100 [==============================] - 7s 71ms/step - loss: 0.1930 - acc: 0.9285 - val_loss: 0.6742 - val_acc: 0.7390\n",
      "Epoch 23/30\n",
      "100/100 [==============================] - 8s 76ms/step - loss: 0.1805 - acc: 0.9305 - val_loss: 0.6151 - val_acc: 0.7430\n",
      "Epoch 24/30\n",
      "100/100 [==============================] - 8s 83ms/step - loss: 0.1567 - acc: 0.9450 - val_loss: 0.6831 - val_acc: 0.7370\n",
      "Epoch 25/30\n",
      "100/100 [==============================] - 6s 62ms/step - loss: 0.1476 - acc: 0.9520 - val_loss: 0.6231 - val_acc: 0.7640\n",
      "Epoch 26/30\n",
      "100/100 [==============================] - 9s 89ms/step - loss: 0.1372 - acc: 0.9495 - val_loss: 0.6402 - val_acc: 0.7510\n",
      "Epoch 27/30\n",
      "100/100 [==============================] - 8s 79ms/step - loss: 0.1156 - acc: 0.9635 - val_loss: 0.6956 - val_acc: 0.7590\n",
      "Epoch 28/30\n",
      "100/100 [==============================] - 7s 71ms/step - loss: 0.1040 - acc: 0.9655 - val_loss: 0.6851 - val_acc: 0.7550\n",
      "Epoch 29/30\n",
      "100/100 [==============================] - 7s 66ms/step - loss: 0.0941 - acc: 0.9710 - val_loss: 0.7191 - val_acc: 0.7680\n",
      "Epoch 30/30\n",
      "100/100 [==============================] - 7s 73ms/step - loss: 0.0803 - acc: 0.9735 - val_loss: 0.7402 - val_acc: 0.7430\n"
     ]
    }
   ],
   "source": [
    "history = model.fit_generator(train_generator, steps_per_epoch=100,\n",
    "                              epochs=30,\n",
    "                              validation_data=validation_generator, validation_steps=50)"
   ]
  },
  {
   "cell_type": "code",
   "execution_count": null,
   "metadata": {},
   "outputs": [],
   "source": [
    "model.save(\"cats_and_dogs_small_1.h5\")"
   ]
  },
  {
   "cell_type": "markdown",
   "metadata": {},
   "source": [
    "## Drawing "
   ]
  },
  {
   "cell_type": "code",
   "execution_count": 11,
   "metadata": {},
   "outputs": [],
   "source": [
    "import matplotlib.pyplot as plt"
   ]
  },
  {
   "cell_type": "code",
   "execution_count": 12,
   "metadata": {},
   "outputs": [],
   "source": [
    "acc = history.history['acc']\n",
    "val_acc = history.history['val_acc']\n",
    "loss = history.history['loss']\n",
    "val_loss = history.history['val_loss']\n",
    "\n",
    "epochs = range(1, len(acc) +1)"
   ]
  },
  {
   "cell_type": "code",
   "execution_count": 13,
   "metadata": {},
   "outputs": [
    {
     "data": {
      "text/plain": [
       "<Figure size 432x288 with 0 Axes>"
      ]
     },
     "execution_count": 13,
     "metadata": {},
     "output_type": "execute_result"
    },
    {
     "data": {
      "image/png": "[encoded data removed]",
      "text/plain": [
       "<Figure size 432x288 with 1 Axes>"
      ]
     },
     "metadata": {
      "needs_background": "light"
     },
     "output_type": "display_data"
    },
    {
     "data": {
      "text/plain": [
       "<Figure size 432x288 with 0 Axes>"
      ]
     },
     "metadata": {},
     "output_type": "display_data"
    }
   ],
   "source": [
    "plt.plot(epochs, acc, 'bo', label='Training acc')\n",
    "plt.plot(epochs, val_acc, 'b', label='Validation acc')\n",
    "plt.title('Training and validation accuracy')\n",
    "plt.legend()\n",
    "\n",
    "plt.figure()"
   ]
  },
  {
   "cell_type": "code",
   "execution_count": 15,
   "metadata": {},
   "outputs": [
    {
     "data": {
      "text/plain": [
       "<Figure size 432x288 with 0 Axes>"
      ]
     },
     "execution_count": 15,
     "metadata": {},
     "output_type": "execute_result"
    },
    {
     "data": {
      "image/png": "[encoded data removed]",
      "text/plain": [
       "<Figure size 432x288 with 1 Axes>"
      ]
     },
     "metadata": {
      "needs_background": "light"
     },
     "output_type": "display_data"
    },
    {
     "data": {
      "text/plain": [
       "<Figure size 432x288 with 0 Axes>"
      ]
     },
     "metadata": {},
     "output_type": "display_data"
    }
   ],
   "source": [
    "plt.plot(epochs, loss, 'bo', label='Training loss')\n",
    "plt.plot(epochs, val_loss, 'b', label='Validation loss')\n",
    "plt.title('Training and Validation Loss')\n",
    "plt.legend()\n",
    "\n",
    "plt.figure()"
   ]
  },
  {
   "cell_type": "code",
   "execution_count": null,
   "metadata": {},
   "outputs": [],
   "source": []
  }
 ],
 "metadata": {
  "kernelspec": {
   "display_name": "Python 3",
   "language": "python",
   "name": "python3"
  },
  "language_info": {
   "codemirror_mode": {
    "name": "ipython",
    "version": 3
   },
   "file_extension": ".py",
   "mimetype": "text/x-python",
   "name": "python",
   "nbconvert_exporter": "python",
   "pygments_lexer": "ipython3",
   "version": "3.6.8"
  }
 },
 "nbformat": 4,
 "nbformat_minor": 2
}
