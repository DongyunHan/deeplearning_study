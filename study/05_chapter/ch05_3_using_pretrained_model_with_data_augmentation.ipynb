{
 "cells": [
  {
   "cell_type": "code",
   "execution_count": 1,
   "metadata": {},
   "outputs": [
    {
     "name": "stderr",
     "output_type": "stream",
     "text": [
      "Using TensorFlow backend.\n"
     ]
    }
   ],
   "source": [
    "from keras.applications import VGG16"
   ]
  },
  {
   "cell_type": "code",
   "execution_count": 2,
   "metadata": {},
   "outputs": [],
   "source": [
    "conv_base = VGG16(weights=\"imagenet\", \n",
    "                include_top=False, # fully connected layer를 사용할 것이냐 말것이냐?\n",
    "                input_shape=(150,150,3))"
   ]
  },
  {
   "cell_type": "code",
   "execution_count": 3,
   "metadata": {},
   "outputs": [
    {
     "name": "stdout",
     "output_type": "stream",
     "text": [
      "_________________________________________________________________\n",
      "Layer (type)                 Output Shape              Param #   \n",
      "=================================================================\n",
      "input_1 (InputLayer)         (None, 150, 150, 3)       0         \n",
      "_________________________________________________________________\n",
      "block1_conv1 (Conv2D)        (None, 150, 150, 64)      1792      \n",
      "_________________________________________________________________\n",
      "block1_conv2 (Conv2D)        (None, 150, 150, 64)      36928     \n",
      "_________________________________________________________________\n",
      "block1_pool (MaxPooling2D)   (None, 75, 75, 64)        0         \n",
      "_________________________________________________________________\n",
      "block2_conv1 (Conv2D)        (None, 75, 75, 128)       73856     \n",
      "_________________________________________________________________\n",
      "block2_conv2 (Conv2D)        (None, 75, 75, 128)       147584    \n",
      "_________________________________________________________________\n",
      "block2_pool (MaxPooling2D)   (None, 37, 37, 128)       0         \n",
      "_________________________________________________________________\n",
      "block3_conv1 (Conv2D)        (None, 37, 37, 256)       295168    \n",
      "_________________________________________________________________\n",
      "block3_conv2 (Conv2D)        (None, 37, 37, 256)       590080    \n",
      "_________________________________________________________________\n",
      "block3_conv3 (Conv2D)        (None, 37, 37, 256)       590080    \n",
      "_________________________________________________________________\n",
      "block3_pool (MaxPooling2D)   (None, 18, 18, 256)       0         \n",
      "_________________________________________________________________\n",
      "block4_conv1 (Conv2D)        (None, 18, 18, 512)       1180160   \n",
      "_________________________________________________________________\n",
      "block4_conv2 (Conv2D)        (None, 18, 18, 512)       2359808   \n",
      "_________________________________________________________________\n",
      "block4_conv3 (Conv2D)        (None, 18, 18, 512)       2359808   \n",
      "_________________________________________________________________\n",
      "block4_pool (MaxPooling2D)   (None, 9, 9, 512)         0         \n",
      "_________________________________________________________________\n",
      "block5_conv1 (Conv2D)        (None, 9, 9, 512)         2359808   \n",
      "_________________________________________________________________\n",
      "block5_conv2 (Conv2D)        (None, 9, 9, 512)         2359808   \n",
      "_________________________________________________________________\n",
      "block5_conv3 (Conv2D)        (None, 9, 9, 512)         2359808   \n",
      "_________________________________________________________________\n",
      "block5_pool (MaxPooling2D)   (None, 4, 4, 512)         0         \n",
      "=================================================================\n",
      "Total params: 14,714,688\n",
      "Trainable params: 14,714,688\n",
      "Non-trainable params: 0\n",
      "_________________________________________________________________\n"
     ]
    }
   ],
   "source": [
    "conv_base.summary()"
   ]
  },
  {
   "cell_type": "code",
   "execution_count": 4,
   "metadata": {},
   "outputs": [],
   "source": [
    "from keras import layers\n",
    "from keras import models\n",
    "# Data Preprocessing\n",
    "from keras.preprocessing.image import ImageDataGenerator\n",
    "from keras import optimizers\n",
    "# Draw Image / plot\n",
    "import matplotlib.pyplot as plt\n",
    "import numpy as np\n",
    "import os"
   ]
  },
  {
   "cell_type": "code",
   "execution_count": 24,
   "metadata": {},
   "outputs": [],
   "source": [
    "model = models.Sequential()\n",
    "model.add(conv_base)\n",
    "model.add(layers.Flatten())\n",
    "model.add(layers.Dense(256, activation='relu', input_dim=4*4*512))\n",
    "model.add(layers.Dense(1, activation=\"sigmoid\"))"
   ]
  },
  {
   "cell_type": "code",
   "execution_count": 25,
   "metadata": {},
   "outputs": [
    {
     "name": "stdout",
     "output_type": "stream",
     "text": [
      "_________________________________________________________________\n",
      "Layer (type)                 Output Shape              Param #   \n",
      "=================================================================\n",
      "vgg16 (Model)                (None, 4, 4, 512)         14714688  \n",
      "_________________________________________________________________\n",
      "flatten_2 (Flatten)          (None, 8192)              0         \n",
      "_________________________________________________________________\n",
      "dense_5 (Dense)              (None, 256)               2097408   \n",
      "_________________________________________________________________\n",
      "dense_6 (Dense)              (None, 1)                 257       \n",
      "=================================================================\n",
      "Total params: 16,812,353\n",
      "Trainable params: 2,097,665\n",
      "Non-trainable params: 14,714,688\n",
      "_________________________________________________________________\n"
     ]
    }
   ],
   "source": [
    "model.summary()"
   ]
  },
  {
   "cell_type": "code",
   "execution_count": 26,
   "metadata": {},
   "outputs": [
    {
     "name": "stdout",
     "output_type": "stream",
     "text": [
      "before freezing conv_base layer 4\n",
      "after freezing conv_base layer 4\n"
     ]
    }
   ],
   "source": [
    "# 모델을 컴파일하고 훈련하기 전에 합성곱 기반 층을 동결하는 것이 중요.\n",
    "# 동결(Freezing)하지 않으면 기존에 학습되어 있던 \n",
    "# VGG16의 합성곱 층의 가중치들이 업데이트되어 버린다. \n",
    "\n",
    "print('before freezing conv_base layer', len(model.trainable_weights))\n",
    "conv_base.trainable = False\n",
    "print('after freezing conv_base layer', len(model.trainable_weights))\n",
    "\n",
    "# ????? \n",
    "# freezing이 되어 있던 모양인데?"
   ]
  },
  {
   "cell_type": "markdown",
   "metadata": {},
   "source": [
    "# Data Preprocessing"
   ]
  },
  {
   "cell_type": "code",
   "execution_count": 20,
   "metadata": {},
   "outputs": [
    {
     "name": "stdout",
     "output_type": "stream",
     "text": [
      "Found 2000 images belonging to 2 classes.\n",
      "Found 1000 images belonging to 2 classes.\n"
     ]
    }
   ],
   "source": [
    "train_datagen = ImageDataGenerator(rescale=1./255,\n",
    "                                   rotation_range = 40,\n",
    "                                   width_shift_range = 0.2,\n",
    "                                   height_shift_range = 0.2,\n",
    "                                   shear_range = 0.2,\n",
    "                                   zoom_range = 0.2,\n",
    "                                   horizontal_flip = True,\n",
    "                                   fill_mode = 'nearest')\n",
    "\n",
    "test_datagen  = ImageDataGenerator(rescale=1./255)\n",
    "\n",
    "dataset_dir = \"../keras_dataset/dogs_cats_small/\"\n",
    "train_dir = dataset_dir + \"train\"\n",
    "valid_dir = dataset_dir + \"validation\"\n",
    "\n",
    "train_generator = train_datagen.flow_from_directory(train_dir,\n",
    "                                                    target_size=(150,150),\n",
    "                                                    batch_size=20,\n",
    "                                                    class_mode='binary')\n",
    "\n",
    "validation_generator = test_datagen.flow_from_directory(valid_dir,\n",
    "                                                        target_size=(150,150),\n",
    "                                                        batch_size=20, \n",
    "                                                        class_mode='binary')"
   ]
  },
  {
   "cell_type": "code",
   "execution_count": 27,
   "metadata": {},
   "outputs": [],
   "source": [
    "model.compile(loss=\"binary_crossentropy\", \n",
    "              optimizer=optimizers.RMSprop(lr=2e-5),\n",
    "              metrics=['acc'])"
   ]
  },
  {
   "cell_type": "code",
   "execution_count": 28,
   "metadata": {},
   "outputs": [
    {
     "name": "stdout",
     "output_type": "stream",
     "text": [
      "Epoch 1/30\n",
      " - 19s - loss: 0.6245 - acc: 0.6460 - val_loss: 0.4642 - val_acc: 0.8020\n",
      "Epoch 2/30\n",
      " - 13s - loss: 0.4871 - acc: 0.7815 - val_loss: 0.3839 - val_acc: 0.8460\n",
      "Epoch 3/30\n",
      " - 14s - loss: 0.4283 - acc: 0.8180 - val_loss: 0.3354 - val_acc: 0.8680\n",
      "Epoch 4/30\n",
      " - 14s - loss: 0.3956 - acc: 0.8240 - val_loss: 0.3151 - val_acc: 0.8790\n",
      "Epoch 5/30\n",
      " - 15s - loss: 0.3985 - acc: 0.8195 - val_loss: 0.3034 - val_acc: 0.8800\n",
      "Epoch 6/30\n",
      " - 15s - loss: 0.3697 - acc: 0.8300 - val_loss: 0.2834 - val_acc: 0.8830\n",
      "Epoch 7/30\n",
      " - 17s - loss: 0.3507 - acc: 0.8540 - val_loss: 0.2806 - val_acc: 0.8920\n",
      "Epoch 8/30\n",
      " - 15s - loss: 0.3494 - acc: 0.8455 - val_loss: 0.2695 - val_acc: 0.8980\n",
      "Epoch 9/30\n",
      " - 17s - loss: 0.3366 - acc: 0.8585 - val_loss: 0.2745 - val_acc: 0.8920\n",
      "Epoch 10/30\n",
      " - 14s - loss: 0.3297 - acc: 0.8580 - val_loss: 0.2544 - val_acc: 0.8970\n",
      "Epoch 11/30\n",
      " - 14s - loss: 0.3317 - acc: 0.8580 - val_loss: 0.2558 - val_acc: 0.8990\n",
      "Epoch 12/30\n",
      " - 14s - loss: 0.3306 - acc: 0.8560 - val_loss: 0.2630 - val_acc: 0.8930\n",
      "Epoch 13/30\n",
      " - 14s - loss: 0.3336 - acc: 0.8520 - val_loss: 0.2538 - val_acc: 0.8940\n",
      "Epoch 14/30\n",
      " - 14s - loss: 0.3110 - acc: 0.8600 - val_loss: 0.2519 - val_acc: 0.8920\n",
      "Epoch 15/30\n",
      " - 14s - loss: 0.3036 - acc: 0.8735 - val_loss: 0.2454 - val_acc: 0.8970\n",
      "Epoch 16/30\n",
      " - 14s - loss: 0.3160 - acc: 0.8535 - val_loss: 0.2511 - val_acc: 0.9010\n",
      "Epoch 17/30\n",
      " - 14s - loss: 0.3073 - acc: 0.8645 - val_loss: 0.2434 - val_acc: 0.9010\n",
      "Epoch 18/30\n",
      " - 14s - loss: 0.3042 - acc: 0.8640 - val_loss: 0.2445 - val_acc: 0.9020\n",
      "Epoch 19/30\n",
      " - 18s - loss: 0.3131 - acc: 0.8630 - val_loss: 0.2452 - val_acc: 0.9010\n",
      "Epoch 20/30\n",
      " - 15s - loss: 0.2944 - acc: 0.8765 - val_loss: 0.2462 - val_acc: 0.8990\n",
      "Epoch 21/30\n",
      " - 20s - loss: 0.3005 - acc: 0.8720 - val_loss: 0.2439 - val_acc: 0.8990\n",
      "Epoch 22/30\n",
      " - 19s - loss: 0.2848 - acc: 0.8785 - val_loss: 0.2569 - val_acc: 0.8930\n",
      "Epoch 23/30\n",
      " - 14s - loss: 0.3008 - acc: 0.8760 - val_loss: 0.2470 - val_acc: 0.9010\n",
      "Epoch 24/30\n",
      " - 14s - loss: 0.2733 - acc: 0.8795 - val_loss: 0.2341 - val_acc: 0.9020\n",
      "Epoch 25/30\n",
      " - 14s - loss: 0.2920 - acc: 0.8710 - val_loss: 0.2476 - val_acc: 0.8980\n",
      "Epoch 26/30\n",
      " - 14s - loss: 0.2820 - acc: 0.8840 - val_loss: 0.2609 - val_acc: 0.8880\n",
      "Epoch 27/30\n",
      " - 18s - loss: 0.2829 - acc: 0.8780 - val_loss: 0.2419 - val_acc: 0.9040\n",
      "Epoch 28/30\n",
      " - 18s - loss: 0.2855 - acc: 0.8750 - val_loss: 0.2599 - val_acc: 0.8920\n",
      "Epoch 29/30\n",
      " - 16s - loss: 0.2871 - acc: 0.8810 - val_loss: 0.2361 - val_acc: 0.9040\n",
      "Epoch 30/30\n",
      " - 14s - loss: 0.2840 - acc: 0.8695 - val_loss: 0.2470 - val_acc: 0.9010\n"
     ]
    }
   ],
   "source": [
    "history = model.fit_generator(train_generator,\n",
    "                              steps_per_epoch=100,\n",
    "                              epochs=30, \n",
    "                              validation_data=validation_generator,\n",
    "                              validation_steps=50,\n",
    "                              verbose=2)"
   ]
  },
  {
   "cell_type": "markdown",
   "metadata": {},
   "source": [
    "# Drawing plot"
   ]
  },
  {
   "cell_type": "code",
   "execution_count": 29,
   "metadata": {},
   "outputs": [
    {
     "data": {
      "image/png": "[encoded data removed]",
      "text/plain": [
       "<Figure size 432x288 with 1 Axes>"
      ]
     },
     "metadata": {
      "needs_background": "light"
     },
     "output_type": "display_data"
    },
    {
     "data": {
      "image/png": "[encoded data removed]",
      "text/plain": [
       "<Figure size 432x288 with 1 Axes>"
      ]
     },
     "metadata": {
      "needs_background": "light"
     },
     "output_type": "display_data"
    }
   ],
   "source": [
    "acc = history.history['acc']\n",
    "val_acc = history.history['val_acc']\n",
    "loss = history.history['loss']\n",
    "val_loss = history.history['val_loss']\n",
    "\n",
    "epochs = range(len(acc))\n",
    "\n",
    "plt.plot(epochs, acc, 'bo', label='Training acc')\n",
    "plt.plot(epochs, val_acc, 'b', label='Validation acc')\n",
    "plt.title('Training and validation accuracy')\n",
    "plt.legend()\n",
    "\n",
    "plt.figure()\n",
    "\n",
    "plt.plot(epochs, loss, 'bo', label='Training loss')\n",
    "plt.plot(epochs, val_loss, 'b', label='Validation loss')\n",
    "plt.title('Training and validation loss')\n",
    "plt.legend()\n",
    "\n",
    "plt.show()"
   ]
  },
  {
   "cell_type": "code",
   "execution_count": null,
   "metadata": {},
   "outputs": [],
   "source": []
  }
 ],
 "metadata": {
  "kernelspec": {
   "display_name": "handy_env",
   "language": "python",
   "name": "handy_env"
  },
  "language_info": {
   "codemirror_mode": {
    "name": "ipython",
    "version": 3
   },
   "file_extension": ".py",
   "mimetype": "text/x-python",
   "name": "python",
   "nbconvert_exporter": "python",
   "pygments_lexer": "ipython3",
   "version": "3.6.8"
  }
 },
 "nbformat": 4,
 "nbformat_minor": 2
}
