{
 "cells": [
  {
   "cell_type": "code",
   "execution_count": 30,
   "metadata": {},
   "outputs": [],
   "source": [
    "from glove import Corpus, Glove"
   ]
  },
  {
   "cell_type": "code",
   "execution_count": 31,
   "metadata": {},
   "outputs": [],
   "source": [
    "corpus = Corpus()"
   ]
  },
  {
   "cell_type": "code",
   "execution_count": 32,
   "metadata": {},
   "outputs": [],
   "source": [
    "lines=[['Hello', 'this', 'is', 'a', \n",
    "        'tutorial', 'on', 'how', 'to', 'convert', 'the', 'word', 'in',\n",
    "        'an', 'integer', 'format',\n",
    "        'this', 'is', 'a', 'beautiful', 'day',\n",
    "        'Jack', 'is', 'going', 'to' ,'office']]"
   ]
  },
  {
   "cell_type": "code",
   "execution_count": 33,
   "metadata": {},
   "outputs": [
    {
     "data": {
      "text/plain": [
       "list"
      ]
     },
     "execution_count": 33,
     "metadata": {},
     "output_type": "execute_result"
    }
   ],
   "source": [
    "type(lines)"
   ]
  },
  {
   "cell_type": "code",
   "execution_count": 34,
   "metadata": {},
   "outputs": [],
   "source": [
    "corpus.fit(lines, window=4)"
   ]
  },
  {
   "cell_type": "code",
   "execution_count": 35,
   "metadata": {},
   "outputs": [
    {
     "name": "stdout",
     "output_type": "stream",
     "text": [
      "  (0, 1)\t1.0\n",
      "  (0, 2)\t0.5\n",
      "  (0, 3)\t0.3333333432674408\n",
      "  (0, 4)\t0.25\n",
      "  (1, 2)\t1.0\n",
      "  (1, 2)\t1.0\n",
      "  (1, 3)\t1.0\n",
      "  (1, 4)\t0.3333333432674408\n",
      "  (1, 5)\t0.25\n",
      "  (1, 11)\t0.25\n",
      "  (1, 12)\t0.3333333432674408\n",
      "  (1, 13)\t0.5\n",
      "  (1, 14)\t1.0\n",
      "  (1, 15)\t0.3333333432674408\n",
      "  (1, 16)\t0.25\n",
      "  (2, 3)\t1.25\n",
      "  (2, 3)\t1.0\n",
      "  (2, 4)\t0.5\n",
      "  (2, 5)\t0.3333333432674408\n",
      "  (2, 6)\t0.25\n",
      "  (2, 7)\t0.5\n",
      "  (2, 12)\t0.25\n",
      "  (2, 13)\t0.3333333432674408\n",
      "  (2, 14)\t0.5\n",
      "  (2, 15)\t0.8333333730697632\n",
      "  :\t:\n",
      "  (8, 11)\t0.3333333432674408\n",
      "  (8, 12)\t0.25\n",
      "  (9, 10)\t1.0\n",
      "  (9, 11)\t0.5\n",
      "  (9, 12)\t0.3333333432674408\n",
      "  (9, 13)\t0.25\n",
      "  (10, 11)\t1.0\n",
      "  (10, 12)\t0.5\n",
      "  (10, 13)\t0.3333333432674408\n",
      "  (10, 14)\t0.25\n",
      "  (11, 12)\t1.0\n",
      "  (11, 13)\t0.5\n",
      "  (11, 14)\t0.3333333432674408\n",
      "  (12, 13)\t1.0\n",
      "  (12, 14)\t0.5\n",
      "  (13, 14)\t1.0\n",
      "  (14, 15)\t0.25\n",
      "  (15, 16)\t1.0\n",
      "  (15, 17)\t0.5\n",
      "  (15, 18)\t0.25\n",
      "  (16, 17)\t1.0\n",
      "  (16, 18)\t0.3333333432674408\n",
      "  (17, 18)\t0.5\n",
      "  (17, 19)\t0.25\n",
      "  (18, 19)\t0.5\n",
      "{'Hello': 0, 'this': 1, 'is': 2, 'a': 3, 'tutorial': 4, 'on': 5, 'how': 6, 'to': 7, 'convert': 8, 'the': 9, 'word': 10, 'in': 11, 'an': 12, 'integer': 13, 'format': 14, 'beautiful': 15, 'day': 16, 'Jack': 17, 'going': 18, 'office': 19}\n"
     ]
    }
   ],
   "source": [
    "print(corpus.matrix)\n",
    "print(corpus.dictionary)"
   ]
  },
  {
   "cell_type": "code",
   "execution_count": 36,
   "metadata": {},
   "outputs": [],
   "source": [
    "glove = Glove(no_components=100, learning_rate=0.05)"
   ]
  },
  {
   "cell_type": "code",
   "execution_count": 37,
   "metadata": {},
   "outputs": [
    {
     "name": "stdout",
     "output_type": "stream",
     "text": [
      "Performing 30 training epochs with 4 threads\n",
      "Epoch 0\n",
      "Epoch 1\n",
      "Epoch 2\n",
      "Epoch 3\n",
      "Epoch 4\n",
      "Epoch 5\n",
      "Epoch 6\n",
      "Epoch 7\n",
      "Epoch 8\n",
      "Epoch 9\n",
      "Epoch 10\n",
      "Epoch 11\n",
      "Epoch 12\n",
      "Epoch 13\n",
      "Epoch 14\n",
      "Epoch 15\n",
      "Epoch 16\n",
      "Epoch 17\n",
      "Epoch 18\n",
      "Epoch 19\n",
      "Epoch 20\n",
      "Epoch 21\n",
      "Epoch 22\n",
      "Epoch 23\n",
      "Epoch 24\n",
      "Epoch 25\n",
      "Epoch 26\n",
      "Epoch 27\n",
      "Epoch 28\n",
      "Epoch 29\n"
     ]
    }
   ],
   "source": [
    "glove.fit(corpus.matrix, epochs=30, no_threads=4, verbose=True)"
   ]
  },
  {
   "cell_type": "code",
   "execution_count": 38,
   "metadata": {},
   "outputs": [],
   "source": [
    "glove.add_dictionary(corpus.dictionary)"
   ]
  },
  {
   "cell_type": "code",
   "execution_count": 42,
   "metadata": {},
   "outputs": [
    {
     "data": {
      "text/plain": [
       "[('tutorial', 0.17476056841250742),\n",
       " ('to', 0.1632529558095164),\n",
       " ('day', 0.07114452242780002),\n",
       " ('on', 0.030575463666045046)]"
      ]
     },
     "execution_count": 42,
     "metadata": {},
     "output_type": "execute_result"
    }
   ],
   "source": [
    "glove.most_similar('Hello')"
   ]
  },
  {
   "cell_type": "code",
   "execution_count": null,
   "metadata": {},
   "outputs": [],
   "source": []
  }
 ],
 "metadata": {
  "kernelspec": {
   "display_name": "handy_env",
   "language": "python",
   "name": "handy_env"
  },
  "language_info": {
   "codemirror_mode": {
    "name": "ipython",
    "version": 3
   },
   "file_extension": ".py",
   "mimetype": "text/x-python",
   "name": "python",
   "nbconvert_exporter": "python",
   "pygments_lexer": "ipython3",
   "version": "3.6.6"
  }
 },
 "nbformat": 4,
 "nbformat_minor": 2
}
